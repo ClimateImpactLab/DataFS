{
 "cells": [
  {
   "cell_type": "code",
   "execution_count": 1,
   "metadata": {
    "collapsed": true
   },
   "outputs": [],
   "source": [
    "from datafs import DataAPI\n",
    "from fs.s3fs import S3FS\n",
    "from fs.osfs import OSFS\n",
    "import fs.utils\n",
    "import boto\n",
    "import datetime\n",
    "\n"
   ]
  },
  {
   "cell_type": "code",
   "execution_count": 2,
   "metadata": {
    "collapsed": false
   },
   "outputs": [],
   "source": [
    "api = DataAPI(username='Justin', contact='jsimcock@rhg.com')"
   ]
  },
  {
   "cell_type": "code",
   "execution_count": 3,
   "metadata": {
    "collapsed": false
   },
   "outputs": [],
   "source": [
    "from datafs.managers.manager_dynamo import DynamoDBManager\n",
    "manager = DynamoDBManager('cil-data')"
   ]
  },
  {
   "cell_type": "code",
   "execution_count": 4,
   "metadata": {
    "collapsed": false
   },
   "outputs": [],
   "source": [
    "api.attach_manager(manager)"
   ]
  },
  {
   "cell_type": "code",
   "execution_count": 5,
   "metadata": {
    "collapsed": false
   },
   "outputs": [],
   "source": [
    "osdc = S3FS('impactlab-meta', profile_name='cil', host='griffin-objstore.opensciencedatacloud.org', calling_format = boto.s3.connection.OrdinaryCallingFormat())"
   ]
  },
  {
   "cell_type": "code",
   "execution_count": 6,
   "metadata": {
    "collapsed": false
   },
   "outputs": [],
   "source": [
    "api.attach_authority('OSDC', osdc)"
   ]
  },
  {
   "cell_type": "code",
   "execution_count": 7,
   "metadata": {
    "collapsed": false
   },
   "outputs": [],
   "source": [
    "# metadata = {\n",
    "#     'description': 'Some information about Brazil',\n",
    "#     'long-description': 'Some more information about Brazil',\n",
    "#     'source': 'United Nations',\n",
    "#     'dependencies': 'Other updated data',\n",
    "#     'timestamp' : '{:%Y-%m-%d %H:%M:%S}'.format(datetime.datetime.now())\n",
    "# }"
   ]
  },
  {
   "cell_type": "code",
   "execution_count": 8,
   "metadata": {
    "collapsed": false
   },
   "outputs": [
    {
     "name": "stdout",
     "output_type": "stream",
     "text": [
      "USA-adm99 already exists. Use get_archive() to view or use update() to update metadata\n"
     ]
    }
   ],
   "source": [
    "api.create_archive('USA-adm99')\n"
   ]
  },
  {
   "cell_type": "code",
   "execution_count": 9,
   "metadata": {
    "collapsed": false
   },
   "outputs": [],
   "source": [
    "#manager.table.delete_item(Key={'_id':'USA-adm99'})"
   ]
  },
  {
   "cell_type": "code",
   "execution_count": 14,
   "metadata": {
    "collapsed": false
   },
   "outputs": [
    {
     "data": {
      "text/plain": [
       "True"
      ]
     },
     "execution_count": 14,
     "metadata": {},
     "output_type": "execute_result"
    }
   ],
   "source": [
    "api.manager._check_if_exists('USA-adm99')"
   ]
  },
  {
   "cell_type": "code",
   "execution_count": 19,
   "metadata": {
    "collapsed": false
   },
   "outputs": [
    {
     "data": {
      "text/plain": [
       "False"
      ]
     },
     "execution_count": 19,
     "metadata": {},
     "output_type": "execute_result"
    }
   ],
   "source": [
    "'Item' in manager.table.get_item(Key={'_id': 'USA-adm100'})"
   ]
  },
  {
   "cell_type": "code",
   "execution_count": 14,
   "metadata": {
    "collapsed": false
   },
   "outputs": [
    {
     "data": {
      "text/plain": [
       "{u'coauthor': u'MikeD',\n",
       " u'creator': u'Jusus',\n",
       " u'one more': u'MikeD',\n",
       " u'one more team': u'something',\n",
       " u'other_key': u'other value'}"
      ]
     },
     "execution_count": 14,
     "metadata": {},
     "output_type": "execute_result"
    }
   ],
   "source": [
    "archive_data\n"
   ]
  },
  {
   "cell_type": "code",
   "execution_count": 85,
   "metadata": {
    "collapsed": false
   },
   "outputs": [],
   "source": [
    "def update_metadata_test(archive_name, metadata):\n",
    "    #keep the current state in memory\n",
    "        archive_data_current = manager.table.get_item(Key={'_id': archive_name})['Item']['archive_data']\n",
    "        archive_data_current.update(metadata)\n",
    "        #add the updated archive_data object to Dynamo\n",
    "        updated = manager.table.update_item(Key={'_id': archive_name},\n",
    "                    UpdateExpression=\"SET archive_data = :v\",\n",
    "                    ExpressionAttributeValues={\n",
    "                    ':v': archive_data_current\n",
    "                    },\n",
    "                    ReturnValues='ALL_NEW'\n",
    "                    )\n",
    "        "
   ]
  },
  {
   "cell_type": "code",
   "execution_count": 12,
   "metadata": {
    "collapsed": false
   },
   "outputs": [],
   "source": [
    "api.manager.update_metadata('USA-adm99', metadata= {'one more team':'something'})"
   ]
  },
  {
   "cell_type": "code",
   "execution_count": 81,
   "metadata": {
    "collapsed": true
   },
   "outputs": [],
   "source": [
    "archive_data = {'creator': 'Jusus', 'other_key': 'other value'}"
   ]
  },
  {
   "cell_type": "code",
   "execution_count": 68,
   "metadata": {
    "collapsed": true
   },
   "outputs": [],
   "source": [
    "metadata= {'coauthor':'MikeD'}"
   ]
  },
  {
   "cell_type": "code",
   "execution_count": 69,
   "metadata": {
    "collapsed": true
   },
   "outputs": [],
   "source": [
    "archive_data.update(metadata)"
   ]
  },
  {
   "cell_type": "code",
   "execution_count": 82,
   "metadata": {
    "collapsed": false
   },
   "outputs": [
    {
     "data": {
      "text/plain": [
       "{'creator': 'Jusus', 'other_key': 'other value'}"
      ]
     },
     "execution_count": 82,
     "metadata": {},
     "output_type": "execute_result"
    }
   ],
   "source": [
    "archive_data"
   ]
  },
  {
   "cell_type": "code",
   "execution_count": 83,
   "metadata": {
    "collapsed": false
   },
   "outputs": [
    {
     "data": {
      "text/plain": [
       "{u'Attributes': {u'_id': u'USA-adm99',\n",
       "  u'archive_data': {u'creator': u'Jusus', u'other_key': u'other value'},\n",
       "  u'authority_name': u'OSDC',\n",
       "  u'service_path': u'USA-adm99',\n",
       "  u'version_metadata': [{u'algorithm': u'md5',\n",
       "    u'author': u'Justin',\n",
       "    u'checksum': u'4928840',\n",
       "    u'contact': u'jsimcock@rhg.com',\n",
       "    u'updated': u'2016-12-05 16:07:44'},\n",
       "   {u'algorithm': u'md5',\n",
       "    u'author': u'Justin',\n",
       "    u'checksum': u'4928840',\n",
       "    u'contact': u'jsimcock@rhg.com',\n",
       "    u'updated': u'2016-12-05 16:07:40'},\n",
       "   {u'algorithm': u'md5',\n",
       "    u'author': u'Justin',\n",
       "    u'checksum': u'4928840',\n",
       "    u'contact': u'jsimcock@rhg.com',\n",
       "    u'updated': u'2016-12-05 16:07:30'}]},\n",
       " 'ResponseMetadata': {'HTTPHeaders': {'content-length': '677',\n",
       "   'content-type': 'application/x-amz-json-1.0',\n",
       "   'date': 'Tue, 06 Dec 2016 01:58:33 GMT',\n",
       "   'x-amz-crc32': '2496566521',\n",
       "   'x-amzn-requestid': 'FH2LIDEAJJDQIUEPJJ2F1B6BQJVV4KQNSO5AEMVJF66Q9ASUAAJG'},\n",
       "  'HTTPStatusCode': 200,\n",
       "  'RequestId': 'FH2LIDEAJJDQIUEPJJ2F1B6BQJVV4KQNSO5AEMVJF66Q9ASUAAJG',\n",
       "  'RetryAttempts': 0}}"
      ]
     },
     "execution_count": 83,
     "metadata": {},
     "output_type": "execute_result"
    }
   ],
   "source": [
    "manager.table.update_item(Key={'_id': 'USA-adm99'},\n",
    "                    UpdateExpression=\"SET archive_data = if_not_exists(archive_metadata, :v)\",\n",
    "                    ExpressionAttributeValues={\n",
    "                    ':v': archive_data\n",
    "                    },\n",
    "                    ReturnValues='ALL_NEW'\n",
    "                    )\n"
   ]
  },
  {
   "cell_type": "code",
   "execution_count": 52,
   "metadata": {
    "collapsed": false
   },
   "outputs": [],
   "source": [
    "\n",
    "version_metadata = {\n",
    "            \"author\": 'Justin',\n",
    "            \"contact\": 'jsimcock@rhg.com',\n",
    "            \"updated\": '{:%Y-%m-%d %H:%M:%S}'.format(datetime.datetime.now()),\n",
    "            \"algorithm\": 'md5',\n",
    "            \"checksum\": '4928840'}"
   ]
  },
  {
   "cell_type": "code",
   "execution_count": 48,
   "metadata": {
    "collapsed": false
   },
   "outputs": [
    {
     "data": {
      "text/plain": [
       "{'algorithm': 'md5',\n",
       " 'author': 'Mike and Justin',\n",
       " 'checksum': '4928840',\n",
       " 'contact': 'jsimcock@rhg.com',\n",
       " 'updated': '2016-12-05 16:35:46'}"
      ]
     },
     "execution_count": 48,
     "metadata": {},
     "output_type": "execute_result"
    }
   ],
   "source": [
    "version_metadata"
   ]
  },
  {
   "cell_type": "code",
   "execution_count": 64,
   "metadata": {
    "collapsed": false
   },
   "outputs": [],
   "source": [
    "def update_archive_data_dict(metadata, **kwargs):\n",
    "    metadata.update(kwargs)\n",
    "    return metadata\n"
   ]
  },
  {
   "cell_type": "code",
   "execution_count": 47,
   "metadata": {
    "collapsed": false
   },
   "outputs": [],
   "source": [
    "version_metadata['author'] = 'Mike and Justin'"
   ]
  },
  {
   "cell_type": "code",
   "execution_count": null,
   "metadata": {
    "collapsed": true
   },
   "outputs": [],
   "source": [
    "manager.table.update_item(Key={'_id': 'USA-adm0'})"
   ]
  },
  {
   "cell_type": "code",
   "execution_count": 22,
   "metadata": {
    "collapsed": false
   },
   "outputs": [
    {
     "data": {
      "text/plain": [
       "[{u'algorithm': u'md5',\n",
       "  u'author': u'Justin',\n",
       "  u'checksum': u'4928840',\n",
       "  u'contact': u'jsimcock@rhg.com',\n",
       "  u'updated': u'2016-12-05 16:07:44'},\n",
       " {u'algorithm': u'md5',\n",
       "  u'author': u'Justin',\n",
       "  u'checksum': u'4928840',\n",
       "  u'contact': u'jsimcock@rhg.com',\n",
       "  u'updated': u'2016-12-05 16:07:40'},\n",
       " {u'algorithm': u'md5',\n",
       "  u'author': u'Justin',\n",
       "  u'checksum': u'4928840',\n",
       "  u'contact': u'jsimcock@rhg.com',\n",
       "  u'updated': u'2016-12-05 16:07:30'}]"
      ]
     },
     "execution_count": 22,
     "metadata": {},
     "output_type": "execute_result"
    }
   ],
   "source": [
    "manager._update('USA-adm99', version_metadata)"
   ]
  },
  {
   "cell_type": "code",
   "execution_count": 18,
   "metadata": {
    "collapsed": false
   },
   "outputs": [
    {
     "data": {
      "text/plain": [
       "{'ResponseMetadata': {'HTTPHeaders': {'content-length': '2',\n",
       "   'content-type': 'application/x-amz-json-1.0',\n",
       "   'date': 'Mon, 05 Dec 2016 23:53:02 GMT',\n",
       "   'x-amz-crc32': '2745614147',\n",
       "   'x-amzn-requestid': 'DBCAH1JL84N6FTH0RFCJTS9IS3VV4KQNSO5AEMVJF66Q9ASUAAJG'},\n",
       "  'HTTPStatusCode': 200,\n",
       "  'RequestId': 'DBCAH1JL84N6FTH0RFCJTS9IS3VV4KQNSO5AEMVJF66Q9ASUAAJG',\n",
       "  'RetryAttempts': 0}}"
      ]
     },
     "execution_count": 18,
     "metadata": {},
     "output_type": "execute_result"
    }
   ],
   "source": [
    "manager.table.delete_item(Key={'_id': 'USA-adm99'})\n"
   ]
  },
  {
   "cell_type": "code",
   "execution_count": 15,
   "metadata": {
    "collapsed": false,
    "scrolled": true
   },
   "outputs": [],
   "source": [
    "# manager.table.update_item(Key={'_id': 'USA-adm99'},\n",
    "#                     UpdateExpression=\"REMOVE archive_data\",\n",
    "#                     ReturnValues='ALL_NEW'\n",
    "#                     )"
   ]
  },
  {
   "cell_type": "code",
   "execution_count": 9,
   "metadata": {
    "collapsed": false
   },
   "outputs": [
    {
     "data": {
      "text/plain": [
       "[<DataArchive>, archive_name: BRA-adm4,\n",
       " <DataArchive>, archive_name: BRA-adm2,\n",
       " <DataArchive>, archive_name: IND-adm1,\n",
       " <DataArchive>, archive_name: BRA-adm3]"
      ]
     },
     "execution_count": 9,
     "metadata": {},
     "output_type": "execute_result"
    }
   ],
   "source": [
    "manager._get_archives()\n"
   ]
  },
  {
   "cell_type": "code",
   "execution_count": 25,
   "metadata": {
    "collapsed": false
   },
   "outputs": [
    {
     "data": {
      "text/plain": [
       "<DataArchive>, archive_name: IND-adm1"
      ]
     },
     "execution_count": 25,
     "metadata": {},
     "output_type": "execute_result"
    }
   ],
   "source": [
    "manager.table.update_item()"
   ]
  },
  {
   "cell_type": "code",
   "execution_count": 9,
   "metadata": {
    "collapsed": false
   },
   "outputs": [
    {
     "name": "stdout",
     "output_type": "stream",
     "text": [
      "dynamodb.Table(name=u'GCP')\n",
      "dynamodb.Table(name=u'impactlab-meta')\n",
      "dynamodb.Table(name=u'test_table')\n"
     ]
    }
   ],
   "source": [
    "for table in manager._resource.tables.all():\n",
    "    print table"
   ]
  },
  {
   "cell_type": "code",
   "execution_count": null,
   "metadata": {
    "collapsed": true
   },
   "outputs": [],
   "source": []
  },
  {
   "cell_type": "code",
   "execution_count": null,
   "metadata": {
    "collapsed": true
   },
   "outputs": [],
   "source": []
  }
 ],
 "metadata": {
  "anaconda-cloud": {},
  "kernelspec": {
   "display_name": "Python [conda env:py27]",
   "language": "python",
   "name": "conda-env-py27-py"
  },
  "language_info": {
   "codemirror_mode": {
    "name": "ipython",
    "version": 2
   },
   "file_extension": ".py",
   "mimetype": "text/x-python",
   "name": "python",
   "nbconvert_exporter": "python",
   "pygments_lexer": "ipython2",
   "version": "2.7.12"
  }
 },
 "nbformat": 4,
 "nbformat_minor": 1
}
