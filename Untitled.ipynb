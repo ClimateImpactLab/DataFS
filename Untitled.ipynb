{
 "cells": [
  {
   "cell_type": "code",
   "execution_count": 1,
   "metadata": {
    "collapsed": true
   },
   "outputs": [],
   "source": [
    "from datafs import DataAPI\n",
    "from fs.s3fs import S3FS\n",
    "import boto\n"
   ]
  },
  {
   "cell_type": "code",
   "execution_count": 2,
   "metadata": {
    "collapsed": false
   },
   "outputs": [],
   "source": [
    "api = DataAPI(username='Justin', contact='jsimcock@rhg.com')"
   ]
  },
  {
   "cell_type": "code",
   "execution_count": 3,
   "metadata": {
    "collapsed": false
   },
   "outputs": [],
   "source": [
    "from datafs.managers.manager_dynamo import DynamoDBManager\n",
    "manager = DynamoDBManager('impactlab-meta')"
   ]
  },
  {
   "cell_type": "code",
   "execution_count": 4,
   "metadata": {
    "collapsed": false
   },
   "outputs": [],
   "source": [
    "api.attach_manager(manager)"
   ]
  },
  {
   "cell_type": "code",
   "execution_count": 5,
   "metadata": {
    "collapsed": false
   },
   "outputs": [],
   "source": [
    "s3 = S3FS('impactlab-meta', profile_name='cil', host='griffin-objstore.opensciencedatacloud.org', calling_format = boto.s3.connection.OrdinaryCallingFormat())"
   ]
  },
  {
   "cell_type": "code",
   "execution_count": 6,
   "metadata": {
    "collapsed": false
   },
   "outputs": [],
   "source": [
    "api.attach_service('s3', s3)"
   ]
  },
  {
   "cell_type": "code",
   "execution_count": 9,
   "metadata": {
    "collapsed": false
   },
   "outputs": [],
   "source": [
    "metadata = {\n",
    "    \n",
    "    'description': 'Some information about Brazil',\n",
    "    'long-description': 'Some more information about Brazil',\n",
    "    'source': 'United Nations',\n",
    "    'dependencies': 'Other updated data',\n",
    "    'timestamp' : '{:%Y-%m-%d %H:%M:%S}'.format(datetime.datetime.now())\n",
    "}"
   ]
  },
  {
   "cell_type": "code",
   "execution_count": 8,
   "metadata": {
    "collapsed": false
   },
   "outputs": [
    {
     "data": {
      "text/plain": [
       "'2016-12-04 15:10:06'"
      ]
     },
     "execution_count": 8,
     "metadata": {},
     "output_type": "execute_result"
    }
   ],
   "source": [
    "import datetime\n",
    "\n",
    "'{:%Y-%m-%d %H:%M:%S}'.format(datetime.datetime.now())"
   ]
  },
  {
   "cell_type": "code",
   "execution_count": 12,
   "metadata": {
    "collapsed": false
   },
   "outputs": [
    {
     "data": {
      "text/plain": [
       "{u'dependencies': u'Other updated data',\n",
       " u'description': u'Some information about Brazil',\n",
       " u'long-description': u'Some more information about Brazil',\n",
       " u'source': u'United Nations',\n",
       " u'timestamp': u'2016-12-04 15:10:08'}"
      ]
     },
     "execution_count": 12,
     "metadata": {},
     "output_type": "execute_result"
    }
   ],
   "source": [
    "manager._update_metadata('BRA-adm4', metadata)[0]"
   ]
  },
  {
   "cell_type": "code",
   "execution_count": 22,
   "metadata": {
    "collapsed": false
   },
   "outputs": [
    {
     "data": {
      "text/plain": [
       "{u'Attributes': {u'GCP_ID': u'BRA-adm4',\n",
       "  u'Metadata': [{u'dependencies': u'Other updated data',\n",
       "    u'description': u'Some information about Brazil',\n",
       "    u'long-description': u'Some more information about Brazil',\n",
       "    u'source': u'United Nations',\n",
       "    u'timestamp': u'2016-12-04 14:58:02'},\n",
       "   {u'dependencies': u'Other updated',\n",
       "    u'description': u'Some information about Brazil',\n",
       "    u'long-description': u'Some more information about Brazil',\n",
       "    u'source': u'United Nations'}]},\n",
       " 'ResponseMetadata': {'HTTPHeaders': {'content-length': '488',\n",
       "   'content-type': 'application/x-amz-json-1.0',\n",
       "   'date': 'Sun, 04 Dec 2016 22:59:05 GMT',\n",
       "   'x-amz-crc32': '3279141354',\n",
       "   'x-amzn-requestid': 'JUB7S5M0QB2OGKGKAFKCSH5H9BVV4KQNSO5AEMVJF66Q9ASUAAJG'},\n",
       "  'HTTPStatusCode': 200,\n",
       "  'RequestId': 'JUB7S5M0QB2OGKGKAFKCSH5H9BVV4KQNSO5AEMVJF66Q9ASUAAJG',\n",
       "  'RetryAttempts': 0}}"
      ]
     },
     "execution_count": 22,
     "metadata": {},
     "output_type": "execute_result"
    }
   ],
   "source": [
    "manager.table.update_item(Key={'GCP_ID': 'BRA-adm4'},\n",
    "                    UpdateExpression=\"SET Metadata = list_append(:v, Metadata )\",\n",
    "                    ExpressionAttributeValues={\n",
    "                    ':v': [metadata]\n",
    "                    },\n",
    "                    ReturnValues='ALL_NEW'\n",
    "                    )\n"
   ]
  },
  {
   "cell_type": "code",
   "execution_count": 9,
   "metadata": {
    "collapsed": false
   },
   "outputs": [
    {
     "data": {
      "text/plain": [
       "[<DataArchive>, archive_name: BRA-adm4,\n",
       " <DataArchive>, archive_name: BRA-adm2,\n",
       " <DataArchive>, archive_name: IND-adm1,\n",
       " <DataArchive>, archive_name: BRA-adm3]"
      ]
     },
     "execution_count": 9,
     "metadata": {},
     "output_type": "execute_result"
    }
   ],
   "source": [
    "manager._get_archives()\n"
   ]
  },
  {
   "cell_type": "code",
   "execution_count": 25,
   "metadata": {
    "collapsed": false
   },
   "outputs": [
    {
     "data": {
      "text/plain": [
       "<DataArchive>, archive_name: IND-adm1"
      ]
     },
     "execution_count": 25,
     "metadata": {},
     "output_type": "execute_result"
    }
   ],
   "source": [
    "manager.table.update_item()"
   ]
  },
  {
   "cell_type": "code",
   "execution_count": 9,
   "metadata": {
    "collapsed": false
   },
   "outputs": [
    {
     "name": "stdout",
     "output_type": "stream",
     "text": [
      "dynamodb.Table(name=u'GCP')\n",
      "dynamodb.Table(name=u'impactlab-meta')\n",
      "dynamodb.Table(name=u'test_table')\n"
     ]
    }
   ],
   "source": [
    "for table in manager._resource.tables.all():\n",
    "    print table"
   ]
  },
  {
   "cell_type": "code",
   "execution_count": null,
   "metadata": {
    "collapsed": true
   },
   "outputs": [],
   "source": []
  },
  {
   "cell_type": "code",
   "execution_count": null,
   "metadata": {
    "collapsed": true
   },
   "outputs": [],
   "source": []
  }
 ],
 "metadata": {
  "anaconda-cloud": {},
  "kernelspec": {
   "display_name": "Python [conda env:py27]",
   "language": "python",
   "name": "conda-env-py27-py"
  },
  "language_info": {
   "codemirror_mode": {
    "name": "ipython",
    "version": 2
   },
   "file_extension": ".py",
   "mimetype": "text/x-python",
   "name": "python",
   "nbconvert_exporter": "python",
   "pygments_lexer": "ipython2",
   "version": "2.7.12"
  }
 },
 "nbformat": 4,
 "nbformat_minor": 1
}
